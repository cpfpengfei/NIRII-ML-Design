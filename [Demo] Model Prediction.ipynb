{
 "cells": [
  {
   "cell_type": "markdown",
   "id": "regular-title",
   "metadata": {},
   "source": [
    "# Prediction demonstration\n",
    "\n",
    "1. To predict a given fluorophore, place the molecule's name (or ID) and its SMILES into the excel `To_Predict.csv` (within the data folder) following the template. Add more lines to predict more molecules together.\n",
    "2. Start this notebook afresh and run all cells \n",
    "3. The predictions made are then saved to `Predictions.csv` in this folder."
   ]
  },
  {
   "cell_type": "code",
   "execution_count": 1,
   "id": "efficient-atlantic",
   "metadata": {},
   "outputs": [],
   "source": [
    "# import required packages\n",
    "import pandas as pd\n",
    "from rdkit import Chem\n",
    "import tensorflow as tf \n",
    "physical_devices = tf.config.list_physical_devices('GPU')\n",
    "tf.config.experimental.set_memory_growth(physical_devices[0], enable=True)\n",
    "tf.random.set_seed(42)\n",
    "import deepchem as dc \n",
    "from scripts.graphConvModel import GraphConvModel"
   ]
  },
  {
   "cell_type": "code",
   "execution_count": 2,
   "id": "knowing-resident",
   "metadata": {},
   "outputs": [
    {
     "name": "stdout",
     "output_type": "stream",
     "text": [
      "Predicted energy gaps (eV)\n",
      "NDAD_4185  | 0.8881\n",
      "NDAD_659   | 0.8858\n",
      "NDAD_2873  | 0.9113\n",
      "NDAD_4942  | 0.9211\n",
      "NDAD_4204  | 0.9457\n",
      "NDAD_2523  | 1.1742\n",
      "NDAD_2656  | 1.0003\n",
      "NDAD_442   | 1.3236\n",
      "NDAD_2082  | 1.4117\n",
      "NDAD_2657  | 1.0759\n",
      "NDAD_1181  | 1.1903\n",
      "NDAD_443   | 1.2256\n",
      "NDAD_4813  | 1.2988\n",
      "NDAD_4731  | 1.3002\n",
      "NDAD_4936  | 1.3065\n",
      "NDAD_2650  | 1.2719\n",
      "NDAD_2691  | 1.3619\n",
      "NDAD_436   | 1.3273\n",
      "NDAD_4609  | 1.4016\n",
      "NDAD_2641  | 1.4032\n",
      "NDAD_2723  | 1.4071\n",
      "NDA_671    | 1.042\n",
      "NDA_1499   | 1.0492\n",
      "NDA_3155   | 1.0584\n"
     ]
    }
   ],
   "source": [
    "# reload model\n",
    "current_tasks = [\"Eg\"]\n",
    "model = GraphConvModel(n_tasks = len(current_tasks),\n",
    "                       graph_conv_layers = [512, 512, 512, 512], \n",
    "                       dense_layers = [128, 128, 128],\n",
    "                       dropout = 0.01,\n",
    "                       learning_rate = 0.001,\n",
    "                       batch_size = 10,\n",
    "                       uncertainty = False,\n",
    "                       model_dir = \"Trained_Model\") # <-- Trained model directory\n",
    "model.restore(model.get_checkpoints()[-1])\n",
    "\n",
    "# featurizing structures from SMILES \n",
    "df = pd.read_csv(\"data/To_Predict.csv\")\n",
    "df[\"MOLS\"] = [Chem.MolFromSmiles(smi) for smi in df.SMILES]\n",
    "graph_featurizer = dc.feat.graph_features.ConvMolFeaturizer()\n",
    "graph_list = graph_featurizer.featurize(df[\"MOLS\"])\n",
    "dataset = dc.data.NumpyDataset(graph_list, ids = df[\"Name\"])\n",
    "\n",
    "# make predictions and save to output csv\n",
    "pred = model.predict(dataset)\n",
    "df[\"Predicted Eg (eV)\"] = pred\n",
    "df[[\"Name\", \"SMILES\", \"Predicted Eg (eV)\"]].to_csv(\"Predictions.csv\")\n",
    "\n",
    "# print out predictions\n",
    "print(\"Predicted energy gaps (eV)\")\n",
    "for i, x in enumerate(pred):\n",
    "    p = str(round(x[0],4))\n",
    "    print(\"{:<10} | {:<5}\".format(df['Name'].values[i], p))"
   ]
  },
  {
   "cell_type": "code",
   "execution_count": null,
   "id": "comic-lesbian",
   "metadata": {},
   "outputs": [],
   "source": []
  }
 ],
 "metadata": {
  "kernelspec": {
   "display_name": "Python 3",
   "language": "python",
   "name": "python3"
  },
  "language_info": {
   "codemirror_mode": {
    "name": "ipython",
    "version": 3
   },
   "file_extension": ".py",
   "mimetype": "text/x-python",
   "name": "python",
   "nbconvert_exporter": "python",
   "pygments_lexer": "ipython3",
   "version": "3.8.8"
  }
 },
 "nbformat": 4,
 "nbformat_minor": 5
}
